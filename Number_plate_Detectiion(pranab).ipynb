{
 "cells": [
  {
   "cell_type": "code",
   "execution_count": 1,
   "id": "ee1688c5-549f-48a6-8a4c-503b098b23c7",
   "metadata": {},
   "outputs": [],
   "source": [
    "import cv2\n",
    "import matplotlib.pyplot as plt"
   ]
  },
  {
   "cell_type": "code",
   "execution_count": 2,
   "id": "055ea0bb-abd1-45f7-90ef-753044a2b0b1",
   "metadata": {},
   "outputs": [
    {
     "data": {
      "text/plain": [
       "'C:\\\\Users\\\\prana\\\\.anaconda\\\\Lib\\\\site-packages\\\\cv2\\\\data\\\\'"
      ]
     },
     "execution_count": 2,
     "metadata": {},
     "output_type": "execute_result"
    }
   ],
   "source": [
    "cv2.data.haarcascades"
   ]
  },
  {
   "cell_type": "code",
   "execution_count": 3,
   "id": "6e765c5e-fd91-450a-a5ad-2bd0f0b74d3a",
   "metadata": {},
   "outputs": [],
   "source": [
    "num_plate_cascade =  cv2.CascadeClassifier(r\"C:\\Users\\prana\\Data Science 9AM\\Deep_Learning\\haarcascade\\haarcascade_russian_plate_number.xml\")"
   ]
  },
  {
   "cell_type": "code",
   "execution_count": 4,
   "id": "55270df0-8be2-49d9-8b1f-981448f37c8c",
   "metadata": {},
   "outputs": [
    {
     "data": {
      "text/plain": [
       "['__class__',\n",
       " '__delattr__',\n",
       " '__dir__',\n",
       " '__doc__',\n",
       " '__eq__',\n",
       " '__format__',\n",
       " '__ge__',\n",
       " '__getattribute__',\n",
       " '__getstate__',\n",
       " '__gt__',\n",
       " '__hash__',\n",
       " '__init__',\n",
       " '__init_subclass__',\n",
       " '__le__',\n",
       " '__lt__',\n",
       " '__module__',\n",
       " '__ne__',\n",
       " '__new__',\n",
       " '__reduce__',\n",
       " '__reduce_ex__',\n",
       " '__repr__',\n",
       " '__setattr__',\n",
       " '__sizeof__',\n",
       " '__str__',\n",
       " '__subclasshook__',\n",
       " 'convert',\n",
       " 'detectMultiScale',\n",
       " 'detectMultiScale2',\n",
       " 'detectMultiScale3',\n",
       " 'empty',\n",
       " 'getFeatureType',\n",
       " 'getOriginalWindowSize',\n",
       " 'isOldFormatCascade',\n",
       " 'load',\n",
       " 'read']"
      ]
     },
     "execution_count": 4,
     "metadata": {},
     "output_type": "execute_result"
    }
   ],
   "source": [
    "dir(num_plate_cascade)"
   ]
  },
  {
   "cell_type": "code",
   "execution_count": 7,
   "id": "29c693a3-4f0b-4245-b17b-8b2149d9cfaf",
   "metadata": {},
   "outputs": [],
   "source": [
    "import cv2\n",
    "vid = cv2.VideoCapture(r\"C:\\Users\\prana\\Downloads\\License Plate Detection Test.mp4\")\n",
    "while True:\n",
    "    ret,frame = vid.read()\n",
    "    gray = cv2.cvtColor(frame,cv2.COLOR_BGR2GRAY)\n",
    "    plates = num_plate_cascade.detectMultiScale(gray,1.1,5)\n",
    "    for (x, y, w, h) in plates:\n",
    "        cv2.rectangle(frame, (x, y), (x+w, y+h), (0, 0, 255), 3)\n",
    "        roi = frame[y:y+h, x:x+w]\n",
    "        cv2.imshow(\"Number Plate\", roi)\n",
    "    cv2.imshow('Video',frame)\n",
    "    if cv2.waitKey(1) & 0xFF == ord('q'):\n",
    "        break\n",
    "vid.release()\n",
    "cv2.destroyAllWindows()"
   ]
  },
  {
   "cell_type": "code",
   "execution_count": null,
   "id": "6e02bc03-78e0-4b5a-8bc4-fa726ba6d618",
   "metadata": {},
   "outputs": [],
   "source": []
  },
  {
   "cell_type": "code",
   "execution_count": null,
   "id": "f58a6132-c5d3-419e-9cb5-b39dffacf249",
   "metadata": {},
   "outputs": [],
   "source": []
  },
  {
   "cell_type": "code",
   "execution_count": null,
   "id": "c1e40db5-c5bc-4292-808f-68c8e8479af1",
   "metadata": {},
   "outputs": [],
   "source": []
  }
 ],
 "metadata": {
  "kernelspec": {
   "display_name": "Python 3 (ipykernel)",
   "language": "python",
   "name": "python3"
  },
  "language_info": {
   "codemirror_mode": {
    "name": "ipython",
    "version": 3
   },
   "file_extension": ".py",
   "mimetype": "text/x-python",
   "name": "python",
   "nbconvert_exporter": "python",
   "pygments_lexer": "ipython3",
   "version": "3.12.7"
  }
 },
 "nbformat": 4,
 "nbformat_minor": 5
}
